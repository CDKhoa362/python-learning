{
 "cells": [
  {
   "cell_type": "markdown",
   "id": "f4889c2a",
   "metadata": {},
   "source": [
    "### Đề bài ###\n",
    "Given the head of a linked list, remove the nth node from the end of the list and return its head.\n",
    "\n",
    "**Ex1:**\n",
    "\n",
    "Input: head = [1,2,3,4,5], n = 2\n",
    "Output: [1,2,3,5]\n",
    "\n",
    "**Ex2:**\n",
    "\n",
    "Input: head = [1], n = 1\n",
    "Output: []\n",
    "\n",
    "**Ex3**\n",
    "\n",
    "Input: head = [1,2], n = 1\n",
    "Output: [1]\n",
    "\n",
    "\n"
   ]
  },
  {
   "cell_type": "code",
   "execution_count": null,
   "id": "705d78d4",
   "metadata": {},
   "outputs": [
    {
     "name": "stdout",
     "output_type": "stream",
     "text": [
      "[1, 2, 3, 4, 5]\n"
     ]
    }
   ],
   "source": [
    "from typing import Optional\n",
    "\n",
    "\n",
    "class ListNode:\n",
    "    def __init__(self, val, next = None):\n",
    "        self.val = val\n",
    "        self.next = next\n",
    "\n",
    "class Solution:\n",
    "    def removeNthFromEnd(self, head: Optional[ListNode], n: int) -> Optional[ListNode]:\n",
    "        fast = head\n",
    "        slow = head\n",
    "\n",
    "        # Moving the fast pointer  k steps ahead\n",
    "        for _ in range(n):\n",
    "            if fast:\n",
    "                fast = fast.next\n",
    "            else:\n",
    "                # The list has a single node\n",
    "                return head\n",
    "            \n",
    "        # In that case, the node to delete is the first node.\n",
    "        if not fast:\n",
    "            return head.next\n",
    "        \n",
    "        while fast:\n",
    "            fast = fast.next\n",
    "            slow = slow.next\n",
    "        \n",
    "        slow.next = slow.next.next\n",
    "\n",
    "        return head\n",
    "\n",
    "list_node = ListNode(1)\n",
    "\n",
    "solution = Solution()\n",
    "print(solution.removeNthFromEnd(list_node,2).val)\n"
   ]
  },
  {
   "cell_type": "code",
   "execution_count": null,
   "id": "16d44ff3",
   "metadata": {},
   "outputs": [],
   "source": []
  }
 ],
 "metadata": {
  "kernelspec": {
   "display_name": "Python 3",
   "language": "python",
   "name": "python3"
  },
  "language_info": {
   "codemirror_mode": {
    "name": "ipython",
    "version": 3
   },
   "file_extension": ".py",
   "mimetype": "text/x-python",
   "name": "python",
   "nbconvert_exporter": "python",
   "pygments_lexer": "ipython3",
   "version": "3.11.1"
  }
 },
 "nbformat": 4,
 "nbformat_minor": 5
}
