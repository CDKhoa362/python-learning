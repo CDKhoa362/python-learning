{
 "cells": [
  {
   "cell_type": "markdown",
   "id": "db85e708",
   "metadata": {},
   "source": [
    "<div style=\"text-align: center;\">\n",
    "  <img src=\"../img/Queue-03.jpg\" alt=\"Minh họa Queue\" width=\"500\">\n",
    "  <img src=\"../img/lines-02-1.png\" alt=\"Minh họa thực tế Queue\" width=\"284\">\n",
    "</div>"
   ]
  },
  {
   "cell_type": "markdown",
   "id": "7c202ab7",
   "metadata": {},
   "source": [
    "Queue là cấu trúc dữ liệu tuyến tính và hoạt động theo nguyên tắc First In First Out (FIFO).\n",
    "\n",
    "Trong đó, các phần tử được lấy ra ở đầu và thêm vào ở vào sau cuối: \n",
    "\n",
    "<ul>\n",
    "    <li> Hành động lấy ra phần tử ở đầu được gọi là Dequeue.\n",
    "    <li> Hành động thêm vào sau cuối được gọi là Enqueue.\n",
    "<ul>\n",
    "\n",
    "\n"
   ]
  }
 ],
 "metadata": {
  "language_info": {
   "name": "python"
  }
 },
 "nbformat": 4,
 "nbformat_minor": 5
}
