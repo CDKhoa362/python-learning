{
 "cells": [
  {
   "cell_type": "markdown",
   "metadata": {},
   "source": [
    "## Pointer"
   ]
  },
  {
   "cell_type": "code",
   "execution_count": null,
   "metadata": {},
   "outputs": [
    {
     "name": "stdout",
     "output_type": "stream",
     "text": [
      "140707866731592\n",
      "140707866731592\n"
     ]
    }
   ],
   "source": [
    "num1 = 10\n",
    "num2 = num1 # trỏ tới vị trí 140707866731592 lưu trữ giá trị 10 trong ô nhớ\n",
    "print(id(num1))\n",
    "print(id(num2))"
   ]
  },
  {
   "cell_type": "code",
   "execution_count": 38,
   "metadata": {},
   "outputs": [
    {
     "name": "stdout",
     "output_type": "stream",
     "text": [
      "10: 140707866731592\n",
      "22: 140707866731976\n"
     ]
    }
   ],
   "source": [
    "# Thay đổi số num2 = 22\n",
    "num2 = 22\n",
    "print(f\"{num1}: {id(num1)}\")\n",
    "print(f\"{num2}: {id(num2)}\")"
   ]
  },
  {
   "cell_type": "markdown",
   "metadata": {},
   "source": [
    "#### => Kiểu số nguyên không thay đổi vị trí trong ô nhớ.\n",
    "\n",
    "num1 và num2 là 2 đối tượng riêng biệt\n",
    "\n",
    "num1 vẫn giữ nguyên vị trí lưu trữ (140707866731592) giá trị 10.\n",
    "\n",
    "num2 gán lại giá trị 22 => Cần cấp ô nhớ có vị trí khác để lưu trữ giá 22"
   ]
  },
  {
   "cell_type": "code",
   "execution_count": 39,
   "metadata": {},
   "outputs": [
    {
     "name": "stdout",
     "output_type": "stream",
     "text": [
      "1935883742656: dict_values([10])\n",
      "1935883742656: dict_values([10])\n"
     ]
    }
   ],
   "source": [
    "# Dictionary là kiểu tham chiếu.\n",
    "dic1 = {\"value\": 10}\n",
    "dic2 = dic1\n",
    "print(f\"{id(dic1)}: {dic1.values()}\")\n",
    "print(f\"{id(dic2)}: {dic2.values()}\")"
   ]
  },
  {
   "cell_type": "markdown",
   "metadata": {},
   "source": [
    "#### Dictionary là kiểu tham chiếu.\n",
    "\n",
    "#### Khi gán dic1 = dic2, thực chất dic1 và dic2 đang trỏ tới cùng 1 vị trí ô nhớ đang lưu trữ giá trị 10, nên khi thay đổi value của dic2, value của dic1 cũng bị thay đổi, nhưng vị trí ô nhớ thì không."
   ]
  },
  {
   "cell_type": "code",
   "execution_count": 40,
   "metadata": {},
   "outputs": [
    {
     "name": "stdout",
     "output_type": "stream",
     "text": [
      "{'value': 22}\n",
      "{'value': 22}\n",
      "1935883742656\n",
      "1935883742656\n"
     ]
    }
   ],
   "source": [
    "dic2['value'] = 22\n",
    "print(dic1)\n",
    "print(dic2)\n",
    "print(id(dic1))\n",
    "print(id(dic2))"
   ]
  },
  {
   "cell_type": "code",
   "execution_count": 41,
   "metadata": {},
   "outputs": [
    {
     "name": "stdout",
     "output_type": "stream",
     "text": [
      "Before reassignment: 2\n",
      "After reassignment: 3\n"
     ]
    }
   ],
   "source": [
    "import gc #garbage collection\n",
    "import sys\n",
    "\n",
    "dic1 = {\"value\": 11} # 1 tham chiếu \n",
    "dic2 = {\"value\": 22} # 1 tham chiếu\n",
    "print(\"Before reassignment:\", sys.getrefcount(dic2))  # Số lượng biến đang tham chiếu\n",
    "\n",
    "dic2 = dic1\n",
    "\"\"\"\n",
    "    dic2: 1 + 1(sys.getrefcount(dic2)) - 1(dic2 = dic1) = 1 tham chiếu, {\"value\": 22} => Không có biến tham chiếu tới nên bị xóa bởi gc\n",
    "    dic1: 1 + 1(sys.getrefcount(dic1)) + 1(dic2) = 3 tham chiếu\n",
    "\"\"\"\n",
    "gc.collect()  # Thủ công kích hoạt garbage collector  \n",
    "print(\"After reassignment:\", sys.getrefcount(dic1))\n"
   ]
  },
  {
   "cell_type": "markdown",
   "metadata": {},
   "source": [
    "# Tổng kết: \n",
    "1. Số nguyên là kiểu tham trị bất biến => Thay đổi vị trí ô nhớ khi giá trị thay đổi\n",
    "2. Dict là kiểu tham trị => Chỉ lưu tham chiếu => Không thay đổi vị trí ô nhớ khi giá trị thay đổi\n",
    "3. Giá trị không có biến nào trỏ tới sẽ bị xóa bởi garbage collection."
   ]
  }
 ],
 "metadata": {
  "kernelspec": {
   "display_name": "Python 3",
   "language": "python",
   "name": "python3"
  },
  "language_info": {
   "codemirror_mode": {
    "name": "ipython",
    "version": 3
   },
   "file_extension": ".py",
   "mimetype": "text/x-python",
   "name": "python",
   "nbconvert_exporter": "python",
   "pygments_lexer": "ipython3",
   "version": "3.11.1"
  }
 },
 "nbformat": 4,
 "nbformat_minor": 2
}
