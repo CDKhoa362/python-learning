{
 "cells": [
  {
   "cell_type": "markdown",
   "id": "a6e85e61",
   "metadata": {},
   "source": [
    "## Stack ##\n",
    "\n",
    "Stack là một cấu trúc dữ liệu tuyến tính hoạt động theo nguyên tắc LIFO (Last In First Out - Phần tử được thêm vào sau cùng sẽ được lấy ra đầu tiên).\n",
    "![Stack illustration](../img/minh-hoa-stack.png)\n",
    "\n",
    "### Triển khai Stack với Singly Linked List ###\n",
    "\n",
    "Stack được triển khai với Singly Linked List:\n",
    "\n",
    "self.head = top\n",
    "\n",
    "self.tail = bottom (bỏ)\n",
    "\n",
    "Stack với Linked List chỉ thêm hoặc xóa phần tử dưới cùng, vậy nên Bottom bị loại bỏ.\n",
    "\n",
    "\n",
    "\n",
    "\n",
    "\n"
   ]
  },
  {
   "cell_type": "code",
   "execution_count": 1,
   "id": "fe554bea",
   "metadata": {},
   "outputs": [],
   "source": [
    "# Class & Constructor\n",
    "class Node:\n",
    "    def __init__(self, value, next = None):\n",
    "        self.value = value\n",
    "        self.next = next\n",
    "\n",
    "class Stack:\n",
    "    def __init__(self, value):\n",
    "        new_node = Node(value)\n",
    "        self.top = new_node\n",
    "        self.height = 1\n",
    "\n",
    "    def print_stack(self):\n",
    "        temp = self.top\n",
    "        while temp:\n",
    "            print(temp.value)\n",
    "            temp = temp.next\n",
    "\n",
    "    \n",
    "        "
   ]
  },
  {
   "cell_type": "markdown",
   "id": "7184b439",
   "metadata": {},
   "source": [
    "Stack được triển khai với Singly Linked List:\n",
    "\n",
    "self.head = top\n",
    "\n",
    "self.tail = bottom (bỏ)\n",
    "\n",
    "Stack với Linked List chỉ thêm hoặc xóa phần tử dưới cùng, vậy nên Bottom bị loại bỏ."
   ]
  }
 ],
 "metadata": {
  "kernelspec": {
   "display_name": "Python 3",
   "language": "python",
   "name": "python3"
  },
  "language_info": {
   "codemirror_mode": {
    "name": "ipython",
    "version": 3
   },
   "file_extension": ".py",
   "mimetype": "text/x-python",
   "name": "python",
   "nbconvert_exporter": "python",
   "pygments_lexer": "ipython3",
   "version": "3.11.1"
  }
 },
 "nbformat": 4,
 "nbformat_minor": 5
}
